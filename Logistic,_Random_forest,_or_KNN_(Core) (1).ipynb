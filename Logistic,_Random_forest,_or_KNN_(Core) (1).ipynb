{
  "nbformat": 4,
  "nbformat_minor": 0,
  "metadata": {
    "colab": {
      "name": "Logistic, Random forest, or KNN (Core).ipynb",
      "provenance": [],
      "collapsed_sections": []
    },
    "kernelspec": {
      "name": "python3",
      "display_name": "Python 3"
    },
    "language_info": {
      "name": "python"
    }
  },
  "cells": [
    {
      "cell_type": "markdown",
      "source": [
        "## Logistic, Random forest, or KNN? (Core)\n",
        "Jonathan Jones"
      ],
      "metadata": {
        "id": "0p6mCIEMDZ9u"
      }
    },
    {
      "cell_type": "markdown",
      "source": [
        "1) Use a logistic regression model and try both l1 and l2 regularization. This is a great opportunity to see how tuning hyperparameters can affect the model results. \n",
        "\n",
        "2) After doing that, try using KNN and Random Forest models. \n",
        "\n",
        "3) Address these questions in a text cell at the end of your code:\n",
        "\n",
        "Which model performed the best? \n",
        "Which hyperparameters did you tune for each of the models? Is there a model that you liked the best and why?"
      ],
      "metadata": {
        "id": "_lf4niBHDXuK"
      }
    },
    {
      "cell_type": "code",
      "execution_count": null,
      "metadata": {
        "id": "h34wAecDCV8o"
      },
      "outputs": [],
      "source": [
        "import pandas as pd\n",
        "import numpy as np\n",
        "\n",
        "from sklearn.preprocessing import StandardScaler\n",
        "from sklearn.pipeline import make_pipeline\n",
        "from sklearn.datasets import load_iris\n",
        "from sklearn.neighbors import KNeighborsClassifier\n",
        "from sklearn.model_selection import train_test_split\n",
        "from sklearn.preprocessing import StandardScaler\n",
        "from sklearn.pipeline import make_pipeline\n",
        "from sklearn.linear_model import LinearRegression\n",
        "from sklearn.linear_model import LogisticRegression\n",
        "from sklearn.metrics import accuracy_score"
      ]
    },
    {
      "cell_type": "code",
      "source": [
        "from google.colab import drive\n",
        "drive.mount('/content/drive')\n",
        "\n",
        "# Import Data:\n",
        "\n",
        "filename = '/content/drive/MyDrive/Colab Notebooks/Week 7/Wine_cultivars.csv'\n",
        "\n",
        "# Preliminary Check:\n",
        "\n",
        "df = pd.read_csv(filename)\n",
        "df.head()"
      ],
      "metadata": {
        "colab": {
          "base_uri": "https://localhost:8080/",
          "height": 285
        },
        "id": "rYy1pI0rDnBW",
        "outputId": "fb2aad0e-859f-4361-facf-cef8e67041b9"
      },
      "execution_count": null,
      "outputs": [
        {
          "output_type": "stream",
          "name": "stdout",
          "text": [
            "Drive already mounted at /content/drive; to attempt to forcibly remount, call drive.mount(\"/content/drive\", force_remount=True).\n"
          ]
        },
        {
          "output_type": "execute_result",
          "data": {
            "text/plain": [
              "   Class label  Alcohol  Malic Acid   Ash  Alcalinity of ash  Magnesium  \\\n",
              "0            1    14.23        1.71  2.43               15.6        127   \n",
              "1            1    13.20        1.78  2.14               11.2        100   \n",
              "2            1    13.16        2.36  2.67               18.6        101   \n",
              "3            1    14.37        1.95  2.50               16.8        113   \n",
              "4            1    13.24        2.59  2.87               21.0        118   \n",
              "\n",
              "   Total phenols  Flavanoids  Nonflavonid phenols  Proanthocyanins  \\\n",
              "0           2.80        3.06                 0.28             2.29   \n",
              "1           2.65        2.76                 0.26             1.28   \n",
              "2           2.80        3.24                 0.30             2.81   \n",
              "3           3.85        3.49                 0.24             2.18   \n",
              "4           2.80        2.69                 0.39             1.82   \n",
              "\n",
              "   Color intensity   Hue  OD280/OD315 of diluted wines  Proline  \n",
              "0             5.64  1.04                          3.92     1065  \n",
              "1             4.38  1.05                          3.40     1050  \n",
              "2             5.68  1.03                          3.17     1185  \n",
              "3             7.80  0.86                          3.45     1480  \n",
              "4             4.32  1.04                          2.93      735  "
            ],
            "text/html": [
              "\n",
              "  <div id=\"df-3a326c20-025d-4e4c-af0f-33626fb4f8e9\">\n",
              "    <div class=\"colab-df-container\">\n",
              "      <div>\n",
              "<style scoped>\n",
              "    .dataframe tbody tr th:only-of-type {\n",
              "        vertical-align: middle;\n",
              "    }\n",
              "\n",
              "    .dataframe tbody tr th {\n",
              "        vertical-align: top;\n",
              "    }\n",
              "\n",
              "    .dataframe thead th {\n",
              "        text-align: right;\n",
              "    }\n",
              "</style>\n",
              "<table border=\"1\" class=\"dataframe\">\n",
              "  <thead>\n",
              "    <tr style=\"text-align: right;\">\n",
              "      <th></th>\n",
              "      <th>Class label</th>\n",
              "      <th>Alcohol</th>\n",
              "      <th>Malic Acid</th>\n",
              "      <th>Ash</th>\n",
              "      <th>Alcalinity of ash</th>\n",
              "      <th>Magnesium</th>\n",
              "      <th>Total phenols</th>\n",
              "      <th>Flavanoids</th>\n",
              "      <th>Nonflavonid phenols</th>\n",
              "      <th>Proanthocyanins</th>\n",
              "      <th>Color intensity</th>\n",
              "      <th>Hue</th>\n",
              "      <th>OD280/OD315 of diluted wines</th>\n",
              "      <th>Proline</th>\n",
              "    </tr>\n",
              "  </thead>\n",
              "  <tbody>\n",
              "    <tr>\n",
              "      <th>0</th>\n",
              "      <td>1</td>\n",
              "      <td>14.23</td>\n",
              "      <td>1.71</td>\n",
              "      <td>2.43</td>\n",
              "      <td>15.6</td>\n",
              "      <td>127</td>\n",
              "      <td>2.80</td>\n",
              "      <td>3.06</td>\n",
              "      <td>0.28</td>\n",
              "      <td>2.29</td>\n",
              "      <td>5.64</td>\n",
              "      <td>1.04</td>\n",
              "      <td>3.92</td>\n",
              "      <td>1065</td>\n",
              "    </tr>\n",
              "    <tr>\n",
              "      <th>1</th>\n",
              "      <td>1</td>\n",
              "      <td>13.20</td>\n",
              "      <td>1.78</td>\n",
              "      <td>2.14</td>\n",
              "      <td>11.2</td>\n",
              "      <td>100</td>\n",
              "      <td>2.65</td>\n",
              "      <td>2.76</td>\n",
              "      <td>0.26</td>\n",
              "      <td>1.28</td>\n",
              "      <td>4.38</td>\n",
              "      <td>1.05</td>\n",
              "      <td>3.40</td>\n",
              "      <td>1050</td>\n",
              "    </tr>\n",
              "    <tr>\n",
              "      <th>2</th>\n",
              "      <td>1</td>\n",
              "      <td>13.16</td>\n",
              "      <td>2.36</td>\n",
              "      <td>2.67</td>\n",
              "      <td>18.6</td>\n",
              "      <td>101</td>\n",
              "      <td>2.80</td>\n",
              "      <td>3.24</td>\n",
              "      <td>0.30</td>\n",
              "      <td>2.81</td>\n",
              "      <td>5.68</td>\n",
              "      <td>1.03</td>\n",
              "      <td>3.17</td>\n",
              "      <td>1185</td>\n",
              "    </tr>\n",
              "    <tr>\n",
              "      <th>3</th>\n",
              "      <td>1</td>\n",
              "      <td>14.37</td>\n",
              "      <td>1.95</td>\n",
              "      <td>2.50</td>\n",
              "      <td>16.8</td>\n",
              "      <td>113</td>\n",
              "      <td>3.85</td>\n",
              "      <td>3.49</td>\n",
              "      <td>0.24</td>\n",
              "      <td>2.18</td>\n",
              "      <td>7.80</td>\n",
              "      <td>0.86</td>\n",
              "      <td>3.45</td>\n",
              "      <td>1480</td>\n",
              "    </tr>\n",
              "    <tr>\n",
              "      <th>4</th>\n",
              "      <td>1</td>\n",
              "      <td>13.24</td>\n",
              "      <td>2.59</td>\n",
              "      <td>2.87</td>\n",
              "      <td>21.0</td>\n",
              "      <td>118</td>\n",
              "      <td>2.80</td>\n",
              "      <td>2.69</td>\n",
              "      <td>0.39</td>\n",
              "      <td>1.82</td>\n",
              "      <td>4.32</td>\n",
              "      <td>1.04</td>\n",
              "      <td>2.93</td>\n",
              "      <td>735</td>\n",
              "    </tr>\n",
              "  </tbody>\n",
              "</table>\n",
              "</div>\n",
              "      <button class=\"colab-df-convert\" onclick=\"convertToInteractive('df-3a326c20-025d-4e4c-af0f-33626fb4f8e9')\"\n",
              "              title=\"Convert this dataframe to an interactive table.\"\n",
              "              style=\"display:none;\">\n",
              "        \n",
              "  <svg xmlns=\"http://www.w3.org/2000/svg\" height=\"24px\"viewBox=\"0 0 24 24\"\n",
              "       width=\"24px\">\n",
              "    <path d=\"M0 0h24v24H0V0z\" fill=\"none\"/>\n",
              "    <path d=\"M18.56 5.44l.94 2.06.94-2.06 2.06-.94-2.06-.94-.94-2.06-.94 2.06-2.06.94zm-11 1L8.5 8.5l.94-2.06 2.06-.94-2.06-.94L8.5 2.5l-.94 2.06-2.06.94zm10 10l.94 2.06.94-2.06 2.06-.94-2.06-.94-.94-2.06-.94 2.06-2.06.94z\"/><path d=\"M17.41 7.96l-1.37-1.37c-.4-.4-.92-.59-1.43-.59-.52 0-1.04.2-1.43.59L10.3 9.45l-7.72 7.72c-.78.78-.78 2.05 0 2.83L4 21.41c.39.39.9.59 1.41.59.51 0 1.02-.2 1.41-.59l7.78-7.78 2.81-2.81c.8-.78.8-2.07 0-2.86zM5.41 20L4 18.59l7.72-7.72 1.47 1.35L5.41 20z\"/>\n",
              "  </svg>\n",
              "      </button>\n",
              "      \n",
              "  <style>\n",
              "    .colab-df-container {\n",
              "      display:flex;\n",
              "      flex-wrap:wrap;\n",
              "      gap: 12px;\n",
              "    }\n",
              "\n",
              "    .colab-df-convert {\n",
              "      background-color: #E8F0FE;\n",
              "      border: none;\n",
              "      border-radius: 50%;\n",
              "      cursor: pointer;\n",
              "      display: none;\n",
              "      fill: #1967D2;\n",
              "      height: 32px;\n",
              "      padding: 0 0 0 0;\n",
              "      width: 32px;\n",
              "    }\n",
              "\n",
              "    .colab-df-convert:hover {\n",
              "      background-color: #E2EBFA;\n",
              "      box-shadow: 0px 1px 2px rgba(60, 64, 67, 0.3), 0px 1px 3px 1px rgba(60, 64, 67, 0.15);\n",
              "      fill: #174EA6;\n",
              "    }\n",
              "\n",
              "    [theme=dark] .colab-df-convert {\n",
              "      background-color: #3B4455;\n",
              "      fill: #D2E3FC;\n",
              "    }\n",
              "\n",
              "    [theme=dark] .colab-df-convert:hover {\n",
              "      background-color: #434B5C;\n",
              "      box-shadow: 0px 1px 3px 1px rgba(0, 0, 0, 0.15);\n",
              "      filter: drop-shadow(0px 1px 2px rgba(0, 0, 0, 0.3));\n",
              "      fill: #FFFFFF;\n",
              "    }\n",
              "  </style>\n",
              "\n",
              "      <script>\n",
              "        const buttonEl =\n",
              "          document.querySelector('#df-3a326c20-025d-4e4c-af0f-33626fb4f8e9 button.colab-df-convert');\n",
              "        buttonEl.style.display =\n",
              "          google.colab.kernel.accessAllowed ? 'block' : 'none';\n",
              "\n",
              "        async function convertToInteractive(key) {\n",
              "          const element = document.querySelector('#df-3a326c20-025d-4e4c-af0f-33626fb4f8e9');\n",
              "          const dataTable =\n",
              "            await google.colab.kernel.invokeFunction('convertToInteractive',\n",
              "                                                     [key], {});\n",
              "          if (!dataTable) return;\n",
              "\n",
              "          const docLinkHtml = 'Like what you see? Visit the ' +\n",
              "            '<a target=\"_blank\" href=https://colab.research.google.com/notebooks/data_table.ipynb>data table notebook</a>'\n",
              "            + ' to learn more about interactive tables.';\n",
              "          element.innerHTML = '';\n",
              "          dataTable['output_type'] = 'display_data';\n",
              "          await google.colab.output.renderOutput(dataTable, element);\n",
              "          const docLink = document.createElement('div');\n",
              "          docLink.innerHTML = docLinkHtml;\n",
              "          element.appendChild(docLink);\n",
              "        }\n",
              "      </script>\n",
              "    </div>\n",
              "  </div>\n",
              "  "
            ]
          },
          "metadata": {},
          "execution_count": 3
        }
      ]
    },
    {
      "cell_type": "code",
      "source": [
        "df.shape"
      ],
      "metadata": {
        "colab": {
          "base_uri": "https://localhost:8080/"
        },
        "id": "26rEQ8jjFxue",
        "outputId": "29cab25c-8d8c-4c3f-bf62-3545502cc626"
      },
      "execution_count": null,
      "outputs": [
        {
          "output_type": "execute_result",
          "data": {
            "text/plain": [
              "(178, 14)"
            ]
          },
          "metadata": {},
          "execution_count": 4
        }
      ]
    },
    {
      "cell_type": "code",
      "source": [
        "# Checking for duplicated rows:\n",
        "\n",
        "df.duplicated().sum()"
      ],
      "metadata": {
        "colab": {
          "base_uri": "https://localhost:8080/"
        },
        "id": "I4CfmaQnF0MJ",
        "outputId": "03bd02e6-2dd0-41a0-c942-05cafa2dd267"
      },
      "execution_count": null,
      "outputs": [
        {
          "output_type": "execute_result",
          "data": {
            "text/plain": [
              "0"
            ]
          },
          "metadata": {},
          "execution_count": 5
        }
      ]
    },
    {
      "cell_type": "code",
      "source": [
        "# Checking for missing values: \n",
        "\n",
        "df.isna().sum()"
      ],
      "metadata": {
        "colab": {
          "base_uri": "https://localhost:8080/"
        },
        "id": "7Gj-Wl1MF3In",
        "outputId": "e76cd2e3-838c-4b25-e614-7c610c98acee"
      },
      "execution_count": null,
      "outputs": [
        {
          "output_type": "execute_result",
          "data": {
            "text/plain": [
              "Class label                     0\n",
              "Alcohol                         0\n",
              "Malic Acid                      0\n",
              "Ash                             0\n",
              "Alcalinity of ash               0\n",
              "Magnesium                       0\n",
              "Total phenols                   0\n",
              "Flavanoids                      0\n",
              "Nonflavonid phenols             0\n",
              "Proanthocyanins                 0\n",
              "Color intensity                 0\n",
              "Hue                             0\n",
              "OD280/OD315 of diluted wines    0\n",
              "Proline                         0\n",
              "dtype: int64"
            ]
          },
          "metadata": {},
          "execution_count": 6
        }
      ]
    },
    {
      "cell_type": "code",
      "source": [
        "# Checking column quantiy, column names, index position,  and datatype:\n",
        "\n",
        "df.info()"
      ],
      "metadata": {
        "colab": {
          "base_uri": "https://localhost:8080/"
        },
        "id": "xen2SgX2F5qR",
        "outputId": "89406a94-fb0a-4697-fc42-79ee42e37b55"
      },
      "execution_count": null,
      "outputs": [
        {
          "output_type": "stream",
          "name": "stdout",
          "text": [
            "<class 'pandas.core.frame.DataFrame'>\n",
            "RangeIndex: 178 entries, 0 to 177\n",
            "Data columns (total 14 columns):\n",
            " #   Column                        Non-Null Count  Dtype  \n",
            "---  ------                        --------------  -----  \n",
            " 0   Class label                   178 non-null    int64  \n",
            " 1   Alcohol                       178 non-null    float64\n",
            " 2   Malic Acid                    178 non-null    float64\n",
            " 3   Ash                           178 non-null    float64\n",
            " 4   Alcalinity of ash             178 non-null    float64\n",
            " 5   Magnesium                     178 non-null    int64  \n",
            " 6   Total phenols                 178 non-null    float64\n",
            " 7   Flavanoids                    178 non-null    float64\n",
            " 8   Nonflavonid phenols           178 non-null    float64\n",
            " 9   Proanthocyanins               178 non-null    float64\n",
            " 10  Color intensity               178 non-null    float64\n",
            " 11  Hue                           178 non-null    float64\n",
            " 12  OD280/OD315 of diluted wines  178 non-null    float64\n",
            " 13  Proline                       178 non-null    int64  \n",
            "dtypes: float64(11), int64(3)\n",
            "memory usage: 19.6 KB\n"
          ]
        }
      ]
    },
    {
      "cell_type": "code",
      "source": [
        "# Changing column names to lower case text for ease with referencing:\n",
        "\n",
        "df.columns = df.columns.str.lower()\n",
        "\n",
        "df.info()"
      ],
      "metadata": {
        "colab": {
          "base_uri": "https://localhost:8080/"
        },
        "id": "DAId5Y5VF8qo",
        "outputId": "ab8c99e8-60fc-4794-df54-4373c7ce47af"
      },
      "execution_count": null,
      "outputs": [
        {
          "output_type": "stream",
          "name": "stdout",
          "text": [
            "<class 'pandas.core.frame.DataFrame'>\n",
            "RangeIndex: 178 entries, 0 to 177\n",
            "Data columns (total 14 columns):\n",
            " #   Column                        Non-Null Count  Dtype  \n",
            "---  ------                        --------------  -----  \n",
            " 0   class label                   178 non-null    int64  \n",
            " 1   alcohol                       178 non-null    float64\n",
            " 2   malic acid                    178 non-null    float64\n",
            " 3   ash                           178 non-null    float64\n",
            " 4   alcalinity of ash             178 non-null    float64\n",
            " 5   magnesium                     178 non-null    int64  \n",
            " 6   total phenols                 178 non-null    float64\n",
            " 7   flavanoids                    178 non-null    float64\n",
            " 8   nonflavonid phenols           178 non-null    float64\n",
            " 9   proanthocyanins               178 non-null    float64\n",
            " 10  color intensity               178 non-null    float64\n",
            " 11  hue                           178 non-null    float64\n",
            " 12  od280/od315 of diluted wines  178 non-null    float64\n",
            " 13  proline                       178 non-null    int64  \n",
            "dtypes: float64(11), int64(3)\n",
            "memory usage: 19.6 KB\n"
          ]
        }
      ]
    },
    {
      "cell_type": "code",
      "source": [
        "# Validation Split: \n",
        "\n",
        "X = df.drop(columns = 'class label')\n",
        "y = df['class label']\n",
        "\n",
        "X_train, X_test, y_train, y_test = train_test_split(X, y, random_state=42, stratify = y)"
      ],
      "metadata": {
        "id": "B5T3gTq1GGAg"
      },
      "execution_count": null,
      "outputs": []
    },
    {
      "cell_type": "code",
      "source": [
        "# Checking the class balance: \n",
        "\n",
        "y_train.value_counts(normalize = True)"
      ],
      "metadata": {
        "colab": {
          "base_uri": "https://localhost:8080/"
        },
        "id": "OIGtZ9xlHaiY",
        "outputId": "b8d4bb22-b865-40cc-d6e2-dbb202b9340f"
      },
      "execution_count": null,
      "outputs": [
        {
          "output_type": "execute_result",
          "data": {
            "text/plain": [
              "2    0.398496\n",
              "1    0.330827\n",
              "3    0.270677\n",
              "Name: class label, dtype: float64"
            ]
          },
          "metadata": {},
          "execution_count": 10
        }
      ]
    },
    {
      "cell_type": "markdown",
      "source": [
        "Logistic Regression"
      ],
      "metadata": {
        "id": "z7FSvnWNLJ-T"
      }
    },
    {
      "cell_type": "code",
      "source": [
        "# Logistic Regression:\n",
        "\n",
        "# Preprocessors\n",
        "LR = LogisticRegression(C=1)\n",
        "SS = StandardScaler()\n",
        "\n",
        "# Constructing pipe_line:\n",
        "LR_PL = make_pipeline(SS, LR)\n",
        "\n",
        "# Fitting the data\n",
        "LR_PL.fit(X_train, y_train)\n",
        "\n",
        "LR_PL.get_params()"
      ],
      "metadata": {
        "colab": {
          "base_uri": "https://localhost:8080/"
        },
        "id": "Ni4t2bHZIXNZ",
        "outputId": "477f57e2-db40-4a4c-fffb-9114b38d39e3"
      },
      "execution_count": null,
      "outputs": [
        {
          "output_type": "execute_result",
          "data": {
            "text/plain": [
              "{'logisticregression': LogisticRegression(C=1),\n",
              " 'logisticregression__C': 1,\n",
              " 'logisticregression__class_weight': None,\n",
              " 'logisticregression__dual': False,\n",
              " 'logisticregression__fit_intercept': True,\n",
              " 'logisticregression__intercept_scaling': 1,\n",
              " 'logisticregression__l1_ratio': None,\n",
              " 'logisticregression__max_iter': 100,\n",
              " 'logisticregression__multi_class': 'auto',\n",
              " 'logisticregression__n_jobs': None,\n",
              " 'logisticregression__penalty': 'l2',\n",
              " 'logisticregression__random_state': None,\n",
              " 'logisticregression__solver': 'lbfgs',\n",
              " 'logisticregression__tol': 0.0001,\n",
              " 'logisticregression__verbose': 0,\n",
              " 'logisticregression__warm_start': False,\n",
              " 'memory': None,\n",
              " 'standardscaler': StandardScaler(),\n",
              " 'standardscaler__copy': True,\n",
              " 'standardscaler__with_mean': True,\n",
              " 'standardscaler__with_std': True,\n",
              " 'steps': [('standardscaler', StandardScaler()),\n",
              "  ('logisticregression', LogisticRegression(C=1))],\n",
              " 'verbose': False}"
            ]
          },
          "metadata": {},
          "execution_count": 11
        }
      ]
    },
    {
      "cell_type": "code",
      "source": [
        "# Assessing model performance: \n",
        "\n",
        "print(LR_PL.score(X_train, y_train))\n",
        "print(LR_PL.score(X_test, y_test))\n",
        "\n",
        "LR_score = LR_PL.score(X_test, y_test)"
      ],
      "metadata": {
        "colab": {
          "base_uri": "https://localhost:8080/"
        },
        "id": "wKfLgcm8JX_i",
        "outputId": "36eb74c6-9da5-4bb8-eea8-e78942b9cbac"
      },
      "execution_count": null,
      "outputs": [
        {
          "output_type": "stream",
          "name": "stdout",
          "text": [
            "1.0\n",
            "1.0\n"
          ]
        }
      ]
    },
    {
      "cell_type": "markdown",
      "source": [
        "l1 Regularization"
      ],
      "metadata": {
        "id": "-v_NyIiirPLJ"
      }
    },
    {
      "cell_type": "code",
      "source": [
        "# Tuning model using L1 Regularization:\n",
        "Cvals = [0.001, 0.01, 1, 10, 100]\n",
        "l1_train_scores = []\n",
        "l1_test_scores = []\n",
        "\n",
        "# Loop that will iterate through c values:\n",
        "for i in Cvals:\n",
        "\n",
        "# Instantiate model:\n",
        "  LRl1 = LogisticRegression(C= i, max_iter=1000, solver = 'liblinear', penalty = 'l1')\n",
        "  LRl1_PL = make_pipeline(SS, LRl1)\n",
        "\n",
        "# Fitting:\n",
        "  LRl1_PL.fit(X_train, y_train)\n",
        "\n",
        "# Adding training and test scores to the list above \n",
        "  l1_train_scores.append(LRl1_PL.score(X_train, y_train))\n",
        "  l1_test_scores.append(LRl1_PL.score(X_test, y_test))\n",
        "\n",
        "l1_scores = {c:score for c, score in zip(Cvals, l1_test_scores)}"
      ],
      "metadata": {
        "id": "EkRVtGK9M6bM"
      },
      "execution_count": null,
      "outputs": []
    },
    {
      "cell_type": "code",
      "source": [
        "# Plotting changes in accuray:\n",
        "\n",
        "import matplotlib.pyplot as plt\n",
        "\n",
        "fig, ax = plt.subplots(1,1, figsize=(20,6))\n",
        "\n",
        "ax.plot(Cvals, l1_train_scores, label = 'Training Accuracy')\n",
        "ax.plot(Cvals, l1_test_scores, label ='Testing Accuracy')\n",
        "ax.set_xticks(Cvals)\n",
        "ax.set_xticklabels(labels=Cvals, rotation = 90)\n",
        "ax.set_title('Change in Accuracy through range of C values with l1 Regularization\\n')\n",
        "ax.legend()\n",
        "ax.grid(color='black', alpha = .5)"
      ],
      "metadata": {
        "colab": {
          "base_uri": "https://localhost:8080/",
          "height": 423
        },
        "id": "Gz9QOBmVmZQa",
        "outputId": "c08c8b7e-cd80-42df-f002-6196de322ba6"
      },
      "execution_count": null,
      "outputs": [
        {
          "output_type": "display_data",
          "data": {
            "text/plain": [
              "<Figure size 1440x432 with 1 Axes>"
            ],
            "image/png": "[encoded data removed]"
          },
          "metadata": {
            "needs_background": "light"
          }
        }
      ]
    },
    {
      "cell_type": "markdown",
      "source": [
        "l2 Regularization"
      ],
      "metadata": {
        "id": "KE2lgaALq7Ic"
      }
    },
    {
      "cell_type": "code",
      "source": [
        "# Tuning model using L1 Regularization:\n",
        "cvals = [0.001, 0.01, 1, 10, 100]\n",
        "l2_train_scores = []\n",
        "l2_test_scores = []\n",
        "\n",
        "# Loop that will iterate through c values:\n",
        "for i in Cvals:\n",
        "\n",
        "# Instantiate model:\n",
        "  LRl2 = LogisticRegression(C= i, max_iter=1000, solver = 'liblinear', penalty = 'l2')\n",
        "  LRl2_PL = make_pipeline(SS, LRl2)\n",
        "\n",
        "# Fitting:\n",
        "  LRl2_PL.fit(X_train, y_train)\n",
        "\n",
        "# Adding training and test scores to the list above \n",
        "  l2_train_scores.append(LRl2_PL.score(X_train, y_train))\n",
        "  l2_test_scores.append(LRl2_PL.score(X_test, y_test))\n",
        "\n",
        "l2_scores = {c:score for c, score in zip(cvals, l2_test_scores)}"
      ],
      "metadata": {
        "id": "Q-gySSf1q9ia"
      },
      "execution_count": null,
      "outputs": []
    },
    {
      "cell_type": "code",
      "source": [
        "# Plotting changes in accuray:\n",
        "\n",
        "import matplotlib.pyplot as plt\n",
        "\n",
        "fig, ax = plt.subplots(1,1, figsize=(20,6))\n",
        "\n",
        "ax.plot(cvals, l2_train_scores, label = 'Training Accuracy', color='deeppink', alpha = .5)\n",
        "ax.plot(cvals, l2_test_scores, label ='Testing Accuracy', color='purple', alpha = .9)\n",
        "ax.set_xticks(cvals)\n",
        "ax.set_xticklabels(labels=cvals, rotation = 90)\n",
        "ax.set_title('Change in Accuracy through range of C values with l2 Regularization\\n')\n",
        "ax.legend()\n",
        "ax.grid(color='black', alpha = .5)"
      ],
      "metadata": {
        "colab": {
          "base_uri": "https://localhost:8080/",
          "height": 423
        },
        "id": "ePON6IIzsxMg",
        "outputId": "d07f5d68-66ea-42a7-f09b-d4bd6484b16d"
      },
      "execution_count": null,
      "outputs": [
        {
          "output_type": "display_data",
          "data": {
            "text/plain": [
              "<Figure size 1440x432 with 1 Axes>"
            ],
            "image/png": "[encoded data removed]"
          },
          "metadata": {
            "needs_background": "light"
          }
        }
      ]
    },
    {
      "cell_type": "markdown",
      "source": [
        "KNN Modeling "
      ],
      "metadata": {
        "id": "bbYq56zGt1DM"
      }
    },
    {
      "cell_type": "code",
      "source": [
        "# Preprocessors:\n",
        "KNN = KNeighborsClassifier(n_neighbors=1)\n",
        "scaler = StandardScaler()\n",
        "\n",
        "# Constructing pipe_line:\n",
        "KNN_PL = make_pipeline(scaler, KNN)\n",
        "\n",
        "# Fitting the data:\n",
        "KNN_PL.fit(X_train, y_train)\n",
        "\n",
        "\n",
        "# Predictions:\n",
        "\n",
        "KNN_train_pred = KNN_PL.predict(X_train)\n",
        "KNN_test_pred = KNN_PL.predict(X_test)\n",
        "\n",
        "KNN_train_acc = accuracy_score(y_train, KNN_train_pred)\n",
        "KNN_test_acc = accuracy_score(y_test, KNN_test_pred)"
      ],
      "metadata": {
        "id": "-ZEB40IItMyd"
      },
      "execution_count": null,
      "outputs": []
    },
    {
      "cell_type": "code",
      "source": [
        "KNN_PL.get_params()"
      ],
      "metadata": {
        "colab": {
          "base_uri": "https://localhost:8080/"
        },
        "id": "GQuZTLEpwq1p",
        "outputId": "1ac74aba-9687-4bc8-dcdb-85f61b7bc595"
      },
      "execution_count": null,
      "outputs": [
        {
          "output_type": "execute_result",
          "data": {
            "text/plain": [
              "{'kneighborsclassifier': KNeighborsClassifier(n_neighbors=1),\n",
              " 'kneighborsclassifier__algorithm': 'auto',\n",
              " 'kneighborsclassifier__leaf_size': 30,\n",
              " 'kneighborsclassifier__metric': 'minkowski',\n",
              " 'kneighborsclassifier__metric_params': None,\n",
              " 'kneighborsclassifier__n_jobs': None,\n",
              " 'kneighborsclassifier__n_neighbors': 1,\n",
              " 'kneighborsclassifier__p': 2,\n",
              " 'kneighborsclassifier__weights': 'uniform',\n",
              " 'memory': None,\n",
              " 'standardscaler': StandardScaler(),\n",
              " 'standardscaler__copy': True,\n",
              " 'standardscaler__with_mean': True,\n",
              " 'standardscaler__with_std': True,\n",
              " 'steps': [('standardscaler', StandardScaler()),\n",
              "  ('kneighborsclassifier', KNeighborsClassifier(n_neighbors=1))],\n",
              " 'verbose': False}"
            ]
          },
          "metadata": {},
          "execution_count": 18
        }
      ]
    },
    {
      "cell_type": "code",
      "source": [
        "# Tunning the model:\n",
        "# Lists for hyperparameters:\n",
        "l_val = [] # leaf size\n",
        "n_val = [] # n neighbors\n",
        "w_weight = [] # weights\n",
        "AS = []\n",
        "\n",
        "# Loop that will iterate through c values:\n",
        "for l in range(25, 35):\n",
        "  for n in range(1, 100):\n",
        "    for w in ['uniform']:\n",
        "\n",
        "# Instantiate model:\n",
        "      KNN = KNeighborsClassifier(n_neighbors= n, leaf_size= l, weights = w)\n",
        "\n",
        "# Constructing pipe_line:      \n",
        "      KNN_PL = make_pipeline(scaler, KNN)\n",
        "      KNN_PL.fit(X_train, y_train)\n",
        "      test_score = KNN_PL.score(X_test, y_test)\n",
        "\n",
        "# Adding test scores to the list above: \n",
        "      l_val.append(l)\n",
        "      n_val.append(n)\n",
        "      w_weight.append(w)\n",
        "      AS.append(test_score)\n"
      ],
      "metadata": {
        "id": "BqY8PtcJki8O"
      },
      "execution_count": null,
      "outputs": []
    },
    {
      "cell_type": "code",
      "source": [
        "# Test Score Data Frame\"\n",
        "\n",
        "test_accuracy_df = pd.DataFrame()\n",
        "test_accuracy_df['leaf_size'] = l_val\n",
        "test_accuracy_df['n_neighbors'] = n_val\n",
        "test_accuracy_df['weights'] = w_weight\n",
        "test_accuracy_df['accuracy_score'] = AS\n",
        "\n",
        "test_accuracy_df.shape\n",
        "\n",
        "test_accuracy_df.sort_values(by ='accuracy_score', ascending=False)\n",
        "test_accuracy_df.iloc[709]"
      ],
      "metadata": {
        "colab": {
          "base_uri": "https://localhost:8080/"
        },
        "id": "ghJKJ0MSoJLX",
        "outputId": "b87acd06-a3dd-47c3-caef-8d1aecf1a5c1"
      },
      "execution_count": null,
      "outputs": [
        {
          "output_type": "execute_result",
          "data": {
            "text/plain": [
              "leaf_size              32\n",
              "n_neighbors            17\n",
              "weights           uniform\n",
              "accuracy_score        1.0\n",
              "Name: 709, dtype: object"
            ]
          },
          "metadata": {},
          "execution_count": 54
        }
      ]
    },
    {
      "cell_type": "markdown",
      "source": [
        "Random Forrest "
      ],
      "metadata": {
        "id": "CH-w7_q502GU"
      }
    },
    {
      "cell_type": "code",
      "source": [
        "from sklearn.ensemble import RandomForestRegressor\n",
        "\n",
        "# Preprocessors:\n",
        "RF = RandomForestRegressor(random_state=42)\n",
        "scaler = StandardScaler()\n",
        "\n",
        "# Constructing pipe_line:\n",
        "RF_PL = make_pipeline(scaler, RF)\n",
        "\n",
        "# Fitting the data:\n",
        "RF_PL.fit(X_train, y_train)\n",
        "\n",
        "\n",
        "# Predictions:\n",
        "\n",
        "RF_train_score = RF_PL.score(X_train, y_train)\n",
        "RF_test_score = RF_PL.score(X_test, y_test)"
      ],
      "metadata": {
        "id": "c6Bed23Wy9y9"
      },
      "execution_count": null,
      "outputs": []
    },
    {
      "cell_type": "code",
      "source": [
        "RF_PL.get_params()"
      ],
      "metadata": {
        "colab": {
          "base_uri": "https://localhost:8080/"
        },
        "id": "MsR6yno-qFgP",
        "outputId": "98ea0e82-7a73-4509-bc87-31d881f215b6"
      },
      "execution_count": null,
      "outputs": [
        {
          "output_type": "execute_result",
          "data": {
            "text/plain": [
              "{'memory': None,\n",
              " 'randomforestregressor': RandomForestRegressor(random_state=42),\n",
              " 'randomforestregressor__bootstrap': True,\n",
              " 'randomforestregressor__ccp_alpha': 0.0,\n",
              " 'randomforestregressor__criterion': 'squared_error',\n",
              " 'randomforestregressor__max_depth': None,\n",
              " 'randomforestregressor__max_features': 'auto',\n",
              " 'randomforestregressor__max_leaf_nodes': None,\n",
              " 'randomforestregressor__max_samples': None,\n",
              " 'randomforestregressor__min_impurity_decrease': 0.0,\n",
              " 'randomforestregressor__min_samples_leaf': 1,\n",
              " 'randomforestregressor__min_samples_split': 2,\n",
              " 'randomforestregressor__min_weight_fraction_leaf': 0.0,\n",
              " 'randomforestregressor__n_estimators': 100,\n",
              " 'randomforestregressor__n_jobs': None,\n",
              " 'randomforestregressor__oob_score': False,\n",
              " 'randomforestregressor__random_state': 42,\n",
              " 'randomforestregressor__verbose': 0,\n",
              " 'randomforestregressor__warm_start': False,\n",
              " 'standardscaler': StandardScaler(),\n",
              " 'standardscaler__copy': True,\n",
              " 'standardscaler__with_mean': True,\n",
              " 'standardscaler__with_std': True,\n",
              " 'steps': [('standardscaler', StandardScaler()),\n",
              "  ('randomforestregressor', RandomForestRegressor(random_state=42))],\n",
              " 'verbose': False}"
            ]
          },
          "metadata": {},
          "execution_count": 31
        }
      ]
    },
    {
      "cell_type": "code",
      "source": [
        "from sklearn.model_selection import GridSearchCV\n",
        "\n",
        "# Construct pipe_line:\n",
        "\n",
        "RF_pipe = make_pipeline(StandardScaler(), RandomForestRegressor())\n",
        "\n",
        "# Populate hyperparameter dictionary: \n",
        "\n",
        "parameter_dict = {'randomforestregressor__max_depth': range(1,5), \n",
        "                  'randomforestregressor__max_leaf_nodes': range(1,5)}\n",
        "\n",
        "RFgridsearch = GridSearchCV(RF_pipe, parameter_dict)\n",
        "\n",
        "RFgridsearch.fit(X_train, y_train)"
      ],
      "metadata": {
        "colab": {
          "base_uri": "https://localhost:8080/"
        },
        "id": "D66AE4u0rLOe",
        "outputId": "ee35f538-7c2a-4e06-963b-edf4f068dc22"
      },
      "execution_count": null,
      "outputs": [
        {
          "output_type": "stream",
          "name": "stderr",
          "text": [
            "/usr/local/lib/python3.7/dist-packages/sklearn/model_selection/_validation.py:372: FitFailedWarning: \n",
            "20 fits failed out of a total of 80.\n",
            "The score on these train-test partitions for these parameters will be set to nan.\n",
            "If these failures are not expected, you can try to debug them by setting error_score='raise'.\n",
            "\n",
            "Below are more details about the failures:\n",
            "--------------------------------------------------------------------------------\n",
            "20 fits failed with the following error:\n",
            "Traceback (most recent call last):\n",
            "  File \"/usr/local/lib/python3.7/dist-packages/sklearn/model_selection/_validation.py\", line 680, in _fit_and_score\n",
            "    estimator.fit(X_train, y_train, **fit_params)\n",
            "  File \"/usr/local/lib/python3.7/dist-packages/sklearn/pipeline.py\", line 394, in fit\n",
            "    self._final_estimator.fit(Xt, y, **fit_params_last_step)\n",
            "  File \"/usr/local/lib/python3.7/dist-packages/sklearn/ensemble/_forest.py\", line 467, in fit\n",
            "    for i, t in enumerate(trees)\n",
            "  File \"/usr/local/lib/python3.7/dist-packages/joblib/parallel.py\", line 1043, in __call__\n",
            "    if self.dispatch_one_batch(iterator):\n",
            "  File \"/usr/local/lib/python3.7/dist-packages/joblib/parallel.py\", line 861, in dispatch_one_batch\n",
            "    self._dispatch(tasks)\n",
            "  File \"/usr/local/lib/python3.7/dist-packages/joblib/parallel.py\", line 779, in _dispatch\n",
            "    job = self._backend.apply_async(batch, callback=cb)\n",
            "  File \"/usr/local/lib/python3.7/dist-packages/joblib/_parallel_backends.py\", line 208, in apply_async\n",
            "    result = ImmediateResult(func)\n",
            "  File \"/usr/local/lib/python3.7/dist-packages/joblib/_parallel_backends.py\", line 572, in __init__\n",
            "    self.results = batch()\n",
            "  File \"/usr/local/lib/python3.7/dist-packages/joblib/parallel.py\", line 263, in __call__\n",
            "    for func, args, kwargs in self.items]\n",
            "  File \"/usr/local/lib/python3.7/dist-packages/joblib/parallel.py\", line 263, in <listcomp>\n",
            "    for func, args, kwargs in self.items]\n",
            "  File \"/usr/local/lib/python3.7/dist-packages/sklearn/utils/fixes.py\", line 216, in __call__\n",
            "    return self.function(*args, **kwargs)\n",
            "  File \"/usr/local/lib/python3.7/dist-packages/sklearn/ensemble/_forest.py\", line 185, in _parallel_build_trees\n",
            "    tree.fit(X, y, sample_weight=curr_sample_weight, check_input=False)\n",
            "  File \"/usr/local/lib/python3.7/dist-packages/sklearn/tree/_classes.py\", line 1320, in fit\n",
            "    X_idx_sorted=X_idx_sorted,\n",
            "  File \"/usr/local/lib/python3.7/dist-packages/sklearn/tree/_classes.py\", line 316, in fit\n",
            "    max_leaf_nodes\n",
            "ValueError: max_leaf_nodes 1 must be either None or larger than 1\n",
            "\n",
            "  warnings.warn(some_fits_failed_message, FitFailedWarning)\n",
            "/usr/local/lib/python3.7/dist-packages/sklearn/model_selection/_search.py:972: UserWarning: One or more of the test scores are non-finite: [       nan 0.67258996 0.67996275 0.67585007        nan 0.67931507\n",
            " 0.85871988 0.896191          nan 0.67658504 0.85295428 0.89549515\n",
            "        nan 0.67782617 0.85066891 0.89860821]\n",
            "  category=UserWarning,\n"
          ]
        },
        {
          "output_type": "execute_result",
          "data": {
            "text/plain": [
              "GridSearchCV(estimator=Pipeline(steps=[('standardscaler', StandardScaler()),\n",
              "                                       ('randomforestregressor',\n",
              "                                        RandomForestRegressor())]),\n",
              "             param_grid={'randomforestregressor__max_depth': range(1, 5),\n",
              "                         'randomforestregressor__max_leaf_nodes': range(1, 5)})"
            ]
          },
          "metadata": {},
          "execution_count": 39
        }
      ]
    },
    {
      "cell_type": "code",
      "source": [
        "best_PL = RFgridsearch.best_estimator_\n",
        "\n",
        "RF_best = RFgridsearch.best_params_\n",
        "\n",
        "RF_best_Score = best_PL.score(X_test, y_test)\n",
        "\n",
        "print('Best Random Forest Parameters:\\n', RF_best )\n",
        "print('\\n')\n",
        "print(f'Accuracy of the best model is: ', RF_best_Score)"
      ],
      "metadata": {
        "colab": {
          "base_uri": "https://localhost:8080/"
        },
        "id": "l78EytyOtk-8",
        "outputId": "680989c0-db2a-4b92-b0dd-5ceca07d1759"
      },
      "execution_count": null,
      "outputs": [
        {
          "output_type": "stream",
          "name": "stdout",
          "text": [
            "Best Random Forest Parameters:\n",
            " {'randomforestregressor__max_depth': 4, 'randomforestregressor__max_leaf_nodes': 4}\n",
            "\n",
            "\n",
            "Accuracy of the best model is:  0.958915289580343\n"
          ]
        }
      ]
    },
    {
      "cell_type": "markdown",
      "source": [
        "Score Comparison from the Various Models"
      ],
      "metadata": {
        "id": "hmQ9q1oB3dn3"
      }
    },
    {
      "cell_type": "code",
      "source": [
        "print('Logistic Regression Test Score:', LR_score)\n",
        "print('\\n')\n",
        "print('Logistic Regression with l1 Regualarization Test Score:\\n', l1_scores)\n",
        "print('\\n')\n",
        "print('Logistic Regression with l2 Regualarization Test Score:\\n', l2_scores)\n",
        "print('\\n')\n",
        "print('KNN test score:\\n', test_accuracy_df.iloc[709])\n",
        "print('\\n')\n",
        "print('Random Forest Test score:\\n', RF_best_Score)"
      ],
      "metadata": {
        "colab": {
          "base_uri": "https://localhost:8080/"
        },
        "id": "dCJyHy1fwDoI",
        "outputId": "592c1613-fa37-4e43-e468-6ba19e40ed80"
      },
      "execution_count": null,
      "outputs": [
        {
          "output_type": "stream",
          "name": "stdout",
          "text": [
            "Logistic Regression Test Score: 1.0\n",
            "\n",
            "\n",
            "Logistic Regression with l1 Regualarization Test Score:\n",
            " {0.001: 0.3333333333333333, 0.01: 0.3333333333333333, 1: 0.9777777777777777, 10: 0.9777777777777777, 100: 0.9777777777777777}\n",
            "\n",
            "\n",
            "Logistic Regression with l2 Regualarization Test Score:\n",
            " {0.001: 0.9333333333333333, 0.01: 0.9777777777777777, 1: 1.0, 10: 1.0, 100: 0.9777777777777777}\n",
            "\n",
            "\n",
            "KNN test score:\n",
            " leaf_size              32\n",
            "n_neighbors            17\n",
            "weights           uniform\n",
            "accuracy_score        1.0\n",
            "Name: 709, dtype: object\n",
            "\n",
            "\n",
            "Random Forest Test score:\n",
            " 0.958915289580343\n"
          ]
        }
      ]
    },
    {
      "cell_type": "markdown",
      "source": [
        "The Logistic Regression and KNN models perfomred the best with test scores of 1.0.\n",
        "\n",
        "I tunned the 'c' values both l1 and l2 Regularization both models were fed the same range of c values: 0.001, 0.01, 1, 10, 100, and the l1 reg. model performed better. \n",
        "\n",
        "For the K-Nearest Neighbors model I used a for loop to iterate through \n",
        "three parameters, leaf size, number of neighbors and weight to provide the optimal model. \n",
        "\n",
        "Max_depth and leaf_nodes were used through the GridSearch class to produce a better model. I had was limited to short ranges and two parameters at a time in order to avoid long runtimes. \n",
        "\n",
        "The KNN model and Random Forest models were my favorite becuase of their flexibility with the nested for loop and Gridsearch. \n"
      ],
      "metadata": {
        "id": "4c87cFtFxzFe"
      }
    }
  ]
}